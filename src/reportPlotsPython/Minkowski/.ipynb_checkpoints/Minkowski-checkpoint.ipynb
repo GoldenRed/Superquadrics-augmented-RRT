{
 "cells": [
  {
   "cell_type": "code",
   "execution_count": 19,
   "metadata": {},
   "outputs": [],
   "source": [
    "import numpy as np\n",
    "import matplotlib.pyplot as plt\n",
    "from matplotlib.axes import Axes\n",
    "import matplotlib.backends.backend_pdf as PDFSTUFF\n",
    "#import itertools\n",
    "\n",
    "\n",
    "def plot_minkowsky_sum(A_limits_X, A_limits_Y, B_limits_X, B_limits_Y, n, sum_bool=True, save_bool=False, saveName='Untitled'):\n",
    "\n",
    "    if sum_bool: #sum, not diff\n",
    "        sgn = 1\n",
    "    else: #diff, not sum\n",
    "        sgn = -1\n",
    "    #A = np.array([[1,1], [1,5], [5,1], [5,5]])\n",
    "    A = [[ax, ay] for ax in np.linspace(A_limits_X[0],A_limits_X[1],n) for ay in np.linspace(A_limits_Y[0],A_limits_Y[1],n)]\n",
    "    #B = np.array([[10,1], [10,5], [15,1], [15,5]])\n",
    "    B = [[bx, by] for bx in np.linspace(B_limits_X[0],B_limits_X[1],n) for by in np.linspace(B_limits_Y[0],B_limits_Y[1],n)]\n",
    "\n",
    "    A = np.array(A)\n",
    "    B = np.array(B)\n",
    "    C = []\n",
    "    for a in A:\n",
    "        for b in B:\n",
    "            C.append([a[0]+sgn*b[0], a[1]+sgn*b[1]])\n",
    "    C = np.array(C)\n",
    "    \n",
    "\n",
    "    plt.rc('text', usetex=True)\n",
    "    plt.rc('font', family='serif')\n",
    "\n",
    "    plt.scatter(A[:,0], A[:,1],c='m',label=r\"$\\displaystyle K_A$\")\n",
    "    plt.scatter(B[:,0], B[:,1],c='b',label=r\"$\\displaystyle K_B$\")\n",
    "    plt.scatter(C[:,0], C[:,1],c='r',label=r\"$\\displaystyle K_C$\")\n",
    "    plt.scatter(0, 0, c='k', label=r\"Origin\")\n",
    "    plt.legend()\n",
    "    plt.axis([-20, 20, -20, 20])\n",
    "    plt.grid(True) \n",
    "    plt.title(r\"Minkowski Difference, $\\displaystyle K_C = K_A - K_B$\")\n",
    "    plt.xlabel(r\"x\")\n",
    "    plt.ylabel(r\"y\")\n",
    "    \n",
    "    if save_bool:\n",
    "         #with PDFSTUFF.PdfPages(saveName + '.pdf') as pdf:\n",
    "         #       pdf.savefig()\n",
    "        plt.savefig(saveName + '.pdf')\n",
    "    #plt.show()"
   ]
  },
  {
   "cell_type": "code",
   "execution_count": 20,
   "metadata": {},
   "outputs": [
    {
     "data": {
      "image/png": "[encoded data removed]",
      "text/plain": [
       "<Figure size 432x288 with 1 Axes>"
      ]
     },
     "metadata": {
      "needs_background": "light"
     },
     "output_type": "display_data"
    }
   ],
   "source": [
    "A_limits_X = [1, 5]\n",
    "A_limits_Y = [1, 5]\n",
    "B_limits_X = [10, 15]\n",
    "B_limits_Y = [5, 15]\n",
    "n = 5 #number of points\n",
    "plot_minkowsky_sum(A_limits_X, A_limits_Y, B_limits_X, B_limits_Y, n, False, True, 'No_Collision')"
   ]
  },
  {
   "cell_type": "code",
   "execution_count": 18,
   "metadata": {},
   "outputs": [
    {
     "data": {
      "image/png": "[encoded data removed]",
      "text/plain": [
       "<Figure size 432x288 with 1 Axes>"
      ]
     },
     "metadata": {
      "needs_background": "light"
     },
     "output_type": "display_data"
    }
   ],
   "source": [
    "A_limits_X = [2, 6]\n",
    "A_limits_Y = [2, 6]\n",
    "B_limits_X = [5, 10]\n",
    "B_limits_Y = [5, 15]\n",
    "n = 5 #number of points\n",
    "plot_minkowsky_sum(A_limits_X, A_limits_Y, B_limits_X, B_limits_Y, n, False, True, 'Collision')"
   ]
  },
  {
   "cell_type": "code",
   "execution_count": null,
   "metadata": {},
   "outputs": [],
   "source": []
  }
 ],
 "metadata": {
  "kernelspec": {
   "display_name": "Python 3",
   "language": "python",
   "name": "python3"
  },
  "language_info": {
   "codemirror_mode": {
    "name": "ipython",
    "version": 3
   },
   "file_extension": ".py",
   "mimetype": "text/x-python",
   "name": "python",
   "nbconvert_exporter": "python",
   "pygments_lexer": "ipython3",
   "version": "3.7.1"
  }
 },
 "nbformat": 4,
 "nbformat_minor": 2
}
