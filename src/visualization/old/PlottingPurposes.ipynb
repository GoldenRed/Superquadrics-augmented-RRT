{
 "cells": [
  {
   "cell_type": "code",
   "execution_count": 2,
   "metadata": {},
   "outputs": [],
   "source": [
    "from World_Simulator_v2 import *\n",
    "import time"
   ]
  },
  {
   "cell_type": "code",
   "execution_count": 42,
   "metadata": {},
   "outputs": [
    {
     "name": "stdout",
     "output_type": "stream",
     "text": [
      "('Creating arm: ', 0.005000114440917969)\n"
     ]
    }
   ],
   "source": [
    "\n",
    "World = Environment()\n",
    "\n",
    "#ADD arm:\n",
    "start = time.time()\n",
    "World.addArm(Arm())\n",
    "end = time.time()\n",
    "print(\"Creating arm: \", end-start)\n",
    "\n",
    "'''for i in range(3):\n",
    "    start = time.time()\n",
    "    World.Arms[0].newStandardLink()#i*1.5, i, i*4, i, i)\n",
    "    end = time.time()\n",
    "    print(\"Adding Link: \", end-start)'''\n",
    "\n",
    "World.Arms[0].newStandardLink(5, 1, 10, 2.7, 0.3)\n",
    "#World.Arms[0].newStandardLink(1,1,1,1,1,)\n",
    "#World.Arms[0].newStandardLink(1, 1, 10, 0.5,1.5 )\n"
   ]
  },
  {
   "cell_type": "code",
   "execution_count": 43,
   "metadata": {},
   "outputs": [
    {
     "name": "stdout",
     "output_type": "stream",
     "text": [
      "('Plotting: ', 94.59100008010864)\n"
     ]
    }
   ],
   "source": [
    "start = time.time()\n",
    "World.plotEnv()\n",
    "end = time.time()\n",
    "print(\"Plotting: \", end-start)"
   ]
  },
  {
   "cell_type": "code",
   "execution_count": null,
   "metadata": {},
   "outputs": [],
   "source": [
    "\n",
    "#ACTUATE arm:\n",
    "start = time.time()\n",
    "armOrder = [[np.pi/3, 0, 0],[0, np.pi/5, 0],[0, 0, np.pi/1.5], [np.pi/2.5, 0, 0], [0, 0, np.pi/5], [np.pi/3, 0, 0], [0, 0, np.pi/3],  [0, 0, 0], [np.pi/3, 0, 0],[0, np.pi/5, 0],[0, 0, np.pi/1.5], [np.pi/2.5, 0, 0], [0, 0, np.pi/5], [np.pi/3, 0, 0], [0, 0, np.pi/3],  [0, 0, 0]]\n",
    "World.actuateArm(order=armOrder)\n",
    "end = time.time()\n",
    "print(\"Actuating Arm: \", end-start)"
   ]
  },
  {
   "cell_type": "code",
   "execution_count": 57,
   "metadata": {},
   "outputs": [],
   "source": [
    "mlab.figure(size=(800,800), fgcolor=(0, 0, 0), bgcolor=(1, 1, 1))\n",
    "\n",
    "a1 = 0.5\n",
    "a2 = 5 \n",
    "a3 = 10\n",
    "e1 = 4 \n",
    "e2 = 0.2\n",
    "num = 120\n",
    "sb = 0\n",
    "\n",
    "\"\"\"O = SuperQuadric(1.5,1.5,1.5, 0.9, 0.9, n=num)\n",
    "O.transform([0, 0, 2.5])\n",
    "O.plotSQ()\"\"\"\n",
    "\n",
    "A = SuperQuadric(a1,a2,a3, e1, e2, n=num)\n",
    "A.transform(rotation = [3.14/2, 0, 0])#translation = [0, 0, (a3 -sb)])\n",
    "A.plotSQ()\n",
    "\n",
    "'''B = SuperQuadric(a1,a2,a3, e1, e2, n=num)\n",
    "B.transform(translation=[0, 0, 2*(a3-sb)])\n",
    "B.plotSQ()\n",
    "\n",
    "C = SuperQuadric(a1,a2,a3, e1, e2, n=num)\n",
    "C.transform(translation=[0, 0, 3*(a3-sb)])\n",
    "C.plotSQ()\n",
    "\n",
    "D = SuperQuadric(a1,a2,a3, e1, e2, n=num)\n",
    "D.transform(translation=[0, 0, 4*(a3-sb)])\n",
    "D.plotSQ()'''\n",
    "\n",
    "mlab.show()"
   ]
  },
  {
   "cell_type": "code",
   "execution_count": null,
   "metadata": {},
   "outputs": [],
   "source": []
  },
  {
   "cell_type": "code",
   "execution_count": 76,
   "metadata": {},
   "outputs": [],
   "source": [
    "class SuperToroid:\n",
    "    def __init__(self, a1=1, a2=1, a3=1, epsilon1=1, epsilon2=1,n=80):\n",
    "        #Default values give sphere superellipsoid\n",
    "        self.a1 = a1\n",
    "        self.a2 = a2\n",
    "        self.a3 = a3\n",
    "        self.epsilon1 = epsilon1\n",
    "        self.epsilon2 = epsilon2\n",
    "        self.n = n\n",
    "        self.loadBasicSuperToroid()\n",
    "\n",
    "    def fexp(self, base, power):\n",
    "        \"\"\"the signed exponential function\"\"\"\n",
    "        return (np.sign(base) * (np.abs(base)**power))\n",
    "\n",
    "    #def loadBasicSuperEllipsoid(self, etamin=-np.pi/2, etamax=np.pi/2, omegamin=-np.pi, omegamax=np.pi):\n",
    "    def loadBasicSuperToroid(self, etamin=-np.pi, etamax=np.pi, omegamin=-np.pi, omegamax=np.pi):\n",
    "        self.eta, self.omega = np.mgrid[etamin:etamax:complex(0,self.n), -np.pi:np.pi:complex(0,self.n)]\n",
    "        self.paramx = (self.a1 + self.fexp(np.cos(self.eta), self.epsilon1))*self.fexp(np.cos(self.omega), self.epsilon2)\n",
    "        self.paramy = (self.a2 + self.fexp(np.cos(self.eta), self.epsilon1))*self.fexp(np.sin(self.omega), self.epsilon2)\n",
    "        self.paramz = self.a3*self.fexp(np.sin(self.eta), self.epsilon1)\n",
    "        self.one = np.ones((self.n,self.n)) #necessary for homogenous transformation\n",
    "        #self.Worig = np.array([self.paramx, self.paramy, self.paramz, self.one]) \n",
    "        self.W = np.array([self.paramx, self.paramy, self.paramz, self.one])\n",
    "        #local coordinate frame -> world frame directly.\n",
    "        #note that self.W is a 4xnxn tensor.\n",
    "\n",
    "    def plotSQ(self):\n",
    "        \"\"\"Method that plots SQ  in Mayavi\"\"\"\n",
    "    # if self.loaded:\n",
    "        #mlab.figure(size=(800,800), fgcolor=(0, 0, 0), bgcolor=(1, 1, 1))\n",
    "        #mlab.mesh(self.paramx,self.paramy,self.paramz)\n",
    "        mlab.mesh(self.W[0], self.W[1], self.W[2])\n",
    "        #mlab.outline()\n",
    "        #mlab.axes() #in mayavi/modules/axes.py change self.configure_input_data(self.axes, src.outputs[0]) to self.configure_input_data(self.axes, src.outputs[0].output)\n",
    "        # mlab.title('Superquadric: ' + 'a1: ' + str(self.a1) + '; ' + 'a2: ' \\\n",
    "        #  + str(self.a2) + '; ' + 'a3: ' + str(self.a3) + '; ' + 'epsilon1: ' \\\n",
    "        #  + str(self.epsilon1) + '; ' + 'epsilon2: ' + str(self.epsilon2) + '.')\n",
    "        \n",
    "        # mlab.show()\n",
    "    # else:\n",
    "    #     self.loadBasicSuperEllipsoid()\n",
    "    #     self.plotSQ()\n",
    "\n",
    "\n",
    "    "
   ]
  },
  {
   "cell_type": "code",
   "execution_count": 82,
   "metadata": {},
   "outputs": [],
   "source": [
    "mlab.figure(size=(800,800), fgcolor=(0, 0, 0), bgcolor=(1, 1, 1))\n",
    "\n",
    "T = SuperToroid(2,2,1,1,1)\n",
    "T.plotSQ()\n",
    "mlab.show()"
   ]
  },
  {
   "cell_type": "code",
   "execution_count": null,
   "metadata": {},
   "outputs": [],
   "source": []
  },
  {
   "cell_type": "code",
   "execution_count": null,
   "metadata": {},
   "outputs": [],
   "source": []
  }
 ],
 "metadata": {
  "kernelspec": {
   "display_name": "Python [conda env:exjobb]",
   "language": "python",
   "name": "conda-env-exjobb-py"
  },
  "language_info": {
   "codemirror_mode": {
    "name": "ipython",
    "version": 2
   },
   "file_extension": ".py",
   "mimetype": "text/x-python",
   "name": "python",
   "nbconvert_exporter": "python",
   "pygments_lexer": "ipython2",
   "version": "2.7.16"
  }
 },
 "nbformat": 4,
 "nbformat_minor": 2
}
