{
 "cells": [
  {
   "cell_type": "code",
   "execution_count": 113,
   "metadata": {},
   "outputs": [],
   "source": [
    "\n",
    "import numpy as np\n",
    "\n",
    "class RRT:\n",
    "    def __init__(self, actuatorConfigs, goal, countBiasNum=100):\n",
    "        self.actuatorConfigs = actuatorConfigs #should look something like: [[0,0,1], [1,0,0], [0,1,0], [0,0,1], [1,0,0]] for an arm with 6 revolute links.\n",
    "        self.goal = goal\n",
    "        self.count = 0\n",
    "        self.countBiasNum = countBiasNum\n",
    "        self.numLinks = len(actuatorConfigs) #ie how many links are there in the arm\n",
    "        self.nodes = []\n",
    "\n",
    "        self.maxDistDiff = np.pi/18 #10 degrees\n",
    "        #TODO:\n",
    "        #self.path = hur ska jag lagra paths?\n",
    "\n",
    "    def generateRandom(self):\n",
    "        '''\n",
    "        actuatorConfigs contains actuator limitation info, i.e. around which axis (x, y or z or in terms of phi, theta, psi) the revolute actuator for each link can rotate.can\n",
    "        The len(actuatorConfigs) informs the amount of links we have in the arm\n",
    "        example actuatorConfigs: [[0,0,1], [1,0,0], [0,1,0]] \n",
    "        It might seem strange but it is a compromise to make it work with the SQ library.\n",
    "        '''\n",
    "        tau = np.pi*2 #Note that the angles will be nonnegative due to this function\n",
    "        randArmOrder = []\n",
    "        if self.count != self.countBiasNum:\n",
    "            for i in range(self.numLinks):\n",
    "                randArmOrder.append([actuatorConfigs[i][0]*tau*np.random.rand(), actuatorConfigs[i][1]*tau*np.random.rand(), actuatorConfigs[i][2]*tau*np.random.rand()])\n",
    "        else:\n",
    "            randArmOrder = self.goal\n",
    "\n",
    "        self.count = self.count + 1\n",
    "        return randArmOrder\n",
    "\n",
    "    def dist(self, node1, node2):\n",
    "    #This function is critical as it is important in how the algorithm extends\n",
    "    \n",
    "        ##what does distance mean in this case even?\n",
    "        #euclidean distance between angles? Does that even make sense? \n",
    "        #Luckily the angles are all non-negative\n",
    "        distance = 0\n",
    "        for i in range(self.numLinks):\n",
    "            tempDist = (node1[i][0]-node2[i][0]) + (node1[i][1]-node2[i][1]) + (node1[i][2]-node2[i][2])\n",
    "            distance = distance + tempDist**2\n",
    "            \n",
    "        #note that this will produce euclidean distances between angles for revolute joints, but if the\n",
    "        #arm configuration allows for a different type of joint (e.g. [1,1,1], shoulder joint) it will take the\n",
    "        #manhattan distance I suppose between those angles (if that is useful?)\n",
    "        print(distance, np.sqrt(distance))\n",
    "        return np.sqrt(distance)\n",
    "\n",
    "    def findNearest(self, node_random):\n",
    "        '''\n",
    "        Will return index of closest node\n",
    "        '''\n",
    "        bestIndex = 0\n",
    "        bestDistance = self.dist(self.nodes[0], node_random) #use the initial point as reference\n",
    "        for index in range(len(self.nodes)):\n",
    "            distance = self.dist(self.nodes[index], node_random)\n",
    "            if distance < bestDistance:\n",
    "                bestIndex = index\n",
    "                bestDistance = distance\n",
    "        return bestIndex \n",
    "\n",
    "    def initNode(self):\n",
    "        '''initialises with a starting node.starting\n",
    "        each node should be a self.numLinksx3 matrix, where each row should have be either [1, 0, 0], [0, 1, 0], or [0, 0, 1] (but doesn't have to be)  '''\n",
    "        node = self.numLinks*[[0,0,0]]\n",
    "        return node\n",
    "\n",
    "\n",
    "    def checkLineSegment(self, node1, node2):\n",
    "        #does it have to check the whole line or just fractions of angles?\n",
    "        #also, at some place it needs to check if the \n",
    "        #for ....\n",
    "            # ___.armtransformorder(node1)\n",
    "            #check = ___.checkcollision...\n",
    "            #if check:\n",
    "                #return True\n",
    "        #return False\n",
    "        #return TRUE or FALSE depending on the collision check\n",
    "        for \n",
    "        pass\n",
    "\n",
    "    def checkGoalReached(self, node2check):\n",
    "\n",
    "        #either this:\n",
    "        goalReachedBool = False\n",
    "        check = True #\n",
    "        for i in range(self.numLinks):\n",
    "            d0 = node2check[i][0] - self.goal[i][0]\n",
    "            d1 = node2check[i][1] - self.goal[i][1]\n",
    "            d2 = node2check[i][2] - self.goal[i][2]\n",
    "            check = check and ((abs(d0) < self.maxDistDiff) and (abs(d1) < self.maxDistDiff) and (abs(d2) < self.maxDistDiff))\n",
    "            if not check:\n",
    "                return False\n",
    "        return True #This means that every check was True, i.e. every angle difference was less than self.maxDistDiff\n",
    "            \n",
    "        #It depends: \n",
    "            #- should the RRT find a way to a specific goal link-angle configuration?\n",
    "                #Go with this algorithm:\n",
    "            #- or should the RRT simply efficiently expand in space until the tip of the EE has reached its goal?\n",
    "                #Do the check with \"goalCheck\" in Environment().checkGoal()\n",
    "\n",
    "\n",
    "    def loop(self):\n",
    "        #Corresponding to the \"The Algorithm\" subsection of the RRT section, with a slight biasing towards the goal region in self.generateRandom\n",
    "        self.nodes.append(self.initNode()) #initialize with\n",
    "        \n",
    "        while(1): \n",
    "            node_random = self.generateRandom()\n",
    "            node_nearest_index = self.findNearest(node_random)\n",
    "            node_new = self.nodeNew()\n",
    "            if (not self.checkLineSegment(self.nodes[node_nearest_index], node_new)):\n",
    "                self.nodes.append(node_new)\n",
    "                #self.path.append(...)\n",
    "                if self.checkGoalReached(node_new):\n",
    "                    return True\n",
    "                else:\n",
    "                    print('Count: ', self.count)\n",
    "\n",
    "\n",
    "\n",
    "\n",
    "\n",
    "\n",
    "\n",
    "\n",
    "\n"
   ]
  },
  {
   "cell_type": "code",
   "execution_count": 107,
   "metadata": {},
   "outputs": [],
   "source": [
    "actuatorConfigs = [[0, 0, 1], [1, 0, 0], [0, 1, 0], [1, 0, 0]]"
   ]
  },
  {
   "cell_type": "code",
   "execution_count": 108,
   "metadata": {},
   "outputs": [],
   "source": [
    "goal = [[0, 0, 99], [99, 0, 0], [0, 99, 0], [99, 0, 0] ]"
   ]
  },
  {
   "cell_type": "code",
   "execution_count": 109,
   "metadata": {},
   "outputs": [],
   "source": [
    "algo = RRT(actuatorConfigs, goal, 10)"
   ]
  },
  {
   "cell_type": "code",
   "execution_count": 110,
   "metadata": {},
   "outputs": [],
   "source": [
    "algo.nodes.append(algo.initNode())\n",
    "algo.nodes.append(algo.generateRandom())\n",
    "algo.nodes.append(algo.generateRandom())\n",
    "algo.nodes.append(algo.generateRandom())\n",
    "node_random = algo.generateRandom()"
   ]
  },
  {
   "cell_type": "code",
   "execution_count": 111,
   "metadata": {},
   "outputs": [
    {
     "name": "stdout",
     "output_type": "stream",
     "text": [
      "(57.339666399445285, 7.572295979387314)\n",
      "(57.339666399445285, 7.572295979387314)\n",
      "(19.46718904553818, 4.412163760054491)\n",
      "(11.251193780367819, 3.354279919799154)\n",
      "(16.790836701928963, 4.0976623460125365)\n",
      "2\n"
     ]
    }
   ],
   "source": [
    "node_nearest_index = algo.findNearest(node_random)\n",
    "print(node_nearest_index)"
   ]
  },
  {
   "cell_type": "code",
   "execution_count": 112,
   "metadata": {},
   "outputs": [
    {
     "data": {
      "text/plain": [
       "[[[0, 0, 0], [0, 0, 0], [0, 0, 0], [0, 0, 0]],\n",
       " [[0.0, 0.0, 3.548751609848436],\n",
       "  [0.18566822953798812, 0.0, 0.0],\n",
       "  [0.0, 2.4420415401755338, 0.0],\n",
       "  [0.33712027507878606, 0.0, 0.0]],\n",
       " [[0.0, 0.0, 1.750237903658146],\n",
       "  [2.6209923455914597, 0.0, 0.0],\n",
       "  [0.0, 3.9814059104981396, 0.0],\n",
       "  [3.145554055020315, 0.0, 0.0]],\n",
       " [[0.0, 0.0, 2.458092359271303],\n",
       "  [1.1107764394808772, 0.0, 0.0],\n",
       "  [0.0, 1.5604149982759339, 0.0],\n",
       "  [2.379354678031052, 0.0, 0.0]]]"
      ]
     },
     "execution_count": 112,
     "metadata": {},
     "output_type": "execute_result"
    }
   ],
   "source": [
    "algo.nodes"
   ]
  },
  {
   "cell_type": "code",
   "execution_count": 132,
   "metadata": {},
   "outputs": [
    {
     "name": "stdout",
     "output_type": "stream",
     "text": [
      "[[ 0.   0.   1. ]\n",
      " [ 0.1  0.   0. ]\n",
      " [ 0.  -2.   0. ]]\n",
      "-----\n",
      "[[ 0.   0.   2. ]\n",
      " [-9.8  0.   0. ]\n",
      " [ 0.  -7.   0. ]]\n",
      "-----\n",
      "[[  0.    0.    3. ]\n",
      " [-19.7   0.    0. ]\n",
      " [  0.  -12.    0. ]]\n",
      "-----\n",
      "[[  0.    0.    4. ]\n",
      " [-29.6   0.    0. ]\n",
      " [  0.  -17.    0. ]]\n",
      "-----\n",
      "[[  0.    0.    5. ]\n",
      " [-39.5   0.    0. ]\n",
      " [  0.  -22.    0. ]]\n",
      "-----\n",
      "[[  0.    0.    6. ]\n",
      " [-49.4   0.    0. ]\n",
      " [  0.  -27.    0. ]]\n",
      "-----\n",
      "[[  0.    0.    7. ]\n",
      " [-59.3   0.    0. ]\n",
      " [  0.  -32.    0. ]]\n",
      "-----\n",
      "[[  0.    0.    8. ]\n",
      " [-69.2   0.    0. ]\n",
      " [  0.  -37.    0. ]]\n",
      "-----\n",
      "[[  0.    0.    9. ]\n",
      " [-79.1   0.    0. ]\n",
      " [  0.  -42.    0. ]]\n",
      "-----\n"
     ]
    }
   ],
   "source": [
    "node1 = np.array([[0, 0, 0], [10, 0, 0], [0, 3, 0]])#np.array(algo.nodes[1])\n",
    "node2 = np.array([[0, 0, 10], [-99, 0, 0], [0, -50, 0]])#np.array(algo.nodes[2])\n",
    "\n",
    "for i in range(1,10):\n",
    "    armOrder = node1 + 0.1*i*node2\n",
    "    print(armOrder)#, armOrder.tolist())\n",
    "    print('-----')"
   ]
  },
  {
   "cell_type": "code",
   "execution_count": 138,
   "metadata": {},
   "outputs": [
    {
     "data": {
      "text/plain": [
       "[1, 0, 0]"
      ]
     },
     "execution_count": 138,
     "metadata": {},
     "output_type": "execute_result"
    }
   ],
   "source": [
    "a = [[1, 0, 0],[1, 0, 0],[1, 0, 0],[1, 0, 0],[1, 0, 0]]\n",
    "len(a)\n",
    "a[len(a)-1]"
   ]
  },
  {
   "cell_type": "code",
   "execution_count": 140,
   "metadata": {},
   "outputs": [
    {
     "data": {
      "text/plain": [
       "0"
      ]
     },
     "execution_count": 140,
     "metadata": {},
     "output_type": "execute_result"
    }
   ],
   "source": [
    "0% 100"
   ]
  },
  {
   "cell_type": "code",
   "execution_count": 6,
   "metadata": {},
   "outputs": [],
   "source": [
    "path = [[0, 1], [0, 2], [2, 3], [3, 4], [4, 5], [4, 6], [5, 7], [4, 8], [8, 9], [8, 10], [4, 11], [4, 12], [9, 13], [6, 14], [8, 15], [8, 16], [11, 17], [6, 18], [14, 19], [6, 20], [4, 21], [17, 22], [2, 23], [23, 24], [4, 25], [12, 26], [8, 27], [18, 28], [24, 29], [8, 30], [23, 31], [27, 32], [18, 33], [12, 34], [29, 35], [2, 36], [17, 37], [29, 38], [7, 39], [17, 40], [9, 41], [26, 42], [3, 43], [10, 44], [17, 45], [9, 46], [1, 47], [4, 48], [4, 49], [31, 50], [30, 51], [10, 52], [13, 53], [29, 54], [3, 55], [26, 56], [7, 57], [49, 58], [12, 59], [8, 60], [60, 61], [23, 62], [4, 63], [18, 64], [27, 65], [31, 66], [26, 67], [66, 68], [11, 69], [66, 70], [12, 71], [6, 72], [43, 73], [31, 74], [23, 75], [12, 76], [73, 77], [50, 78], [76, 79], [36, 80], [66, 81], [59, 82], [70, 83], [59, 84], [8, 85], [81, 86], [15, 87], [5, 88], [10, 89], [46, 90], [58, 91], [73, 92], [15, 93], [73, 94], [79, 95], [47, 96]]"
   ]
  },
  {
   "cell_type": "code",
   "execution_count": 2,
   "metadata": {},
   "outputs": [
    {
     "name": "stdout",
     "output_type": "stream",
     "text": [
      "[47, 96]\n",
      "[1, 47]\n",
      "[0, 1]\n"
     ]
    }
   ],
   "source": [
    "print(path[-1])\n",
    "print(path[path[-1][0]-1])\n",
    "\n",
    "print(path[path[path[-1][0]-1][0]-1])"
   ]
  },
  {
   "cell_type": "code",
   "execution_count": 14,
   "metadata": {},
   "outputs": [
    {
     "name": "stdout",
     "output_type": "stream",
     "text": [
      "47\n",
      "('Prev Link:', [47, 96])\n",
      "1\n",
      "('Prev Link:', [1, 47])\n",
      "0\n"
     ]
    }
   ],
   "source": [
    "prevLink = path[-1]\n",
    "while(1):\n",
    "    print(prevLink[0])\n",
    "    if (prevLink[0]) == 0:\n",
    "        break\n",
    "    else:\n",
    "        print(\"Prev Link:\", prevLink)\n",
    "        prevLink = path[prevLink[0]-1]\n",
    "    "
   ]
  },
  {
   "cell_type": "code",
   "execution_count": 36,
   "metadata": {},
   "outputs": [],
   "source": [
    "OK_path = []\n",
    "\n",
    "class PATHFINDER:\n",
    "    def __init__(self, path):\n",
    "        self.path = path\n",
    "        self.first = True\n",
    "    \n",
    "    def recuPathFind(self, prevLink=None):\n",
    "        if self.first == True:\n",
    "            self.OK_path = []\n",
    "            self.OK_path.append(path[-1][1])\n",
    "            prevLink = path[-1]\n",
    "            self.first = False\n",
    "            return self.recuPathFind(prevLink)\n",
    "        else:\n",
    "            print('Previous Link:', prevLink)\n",
    "            self.OK_path.append(prevLink[0])\n",
    "            if(prevLink[0]) == 0:\n",
    "                self.first = True #I.e, we are done and reset the state.\n",
    "                return\n",
    "            prevLink = self.path[prevLink[0]-1]\n",
    "            return self.recuPathFind(prevLink)"
   ]
  },
  {
   "cell_type": "code",
   "execution_count": 37,
   "metadata": {},
   "outputs": [
    {
     "name": "stdout",
     "output_type": "stream",
     "text": [
      "('Previous Link:', [47, 96])\n",
      "('Previous Link:', [1, 47])\n",
      "('Previous Link:', [0, 1])\n"
     ]
    },
    {
     "data": {
      "text/plain": [
       "[96, 47, 1, 0]"
      ]
     },
     "execution_count": 37,
     "metadata": {},
     "output_type": "execute_result"
    }
   ],
   "source": [
    "pathF = PATHFINDER(path)\n",
    "pathF.recuPathFind()\n",
    "pathF.OK_path"
   ]
  },
  {
   "cell_type": "code",
   "execution_count": null,
   "metadata": {},
   "outputs": [],
   "source": []
  }
 ],
 "metadata": {
  "kernelspec": {
   "display_name": "Python [conda env:exjobb]",
   "language": "python",
   "name": "conda-env-exjobb-py"
  },
  "language_info": {
   "codemirror_mode": {
    "name": "ipython",
    "version": 2
   },
   "file_extension": ".py",
   "mimetype": "text/x-python",
   "name": "python",
   "nbconvert_exporter": "python",
   "pygments_lexer": "ipython2",
   "version": "2.7.16"
  }
 },
 "nbformat": 4,
 "nbformat_minor": 2
}
