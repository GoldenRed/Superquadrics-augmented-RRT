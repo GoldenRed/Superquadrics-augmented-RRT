{
 "cells": [
  {
   "cell_type": "code",
   "execution_count": 2,
   "metadata": {},
   "outputs": [],
   "source": [
    "import numpy as np"
   ]
  },
  {
   "cell_type": "code",
   "execution_count": 161,
   "metadata": {},
   "outputs": [],
   "source": [
    "def produceTransformMat(translation = [0, 0, 0], eulerAng = [0, 0, 0]):\n",
    "    \"\"\"a rotation and translation expressed in RZ*RY*RX Rotation\n",
    "    tx = translation[0]\n",
    "    ty = translation[1]\n",
    "    tz = translation[2]\n",
    "    phi = eulerAng[0]\n",
    "    theta = eulerAng[1]\n",
    "    psi = eulerAng[2]\"\"\"\n",
    "    m11 = np.cos(eulerAng[0])*np.cos(eulerAng[1])\n",
    "    m12 = np.cos(eulerAng[0])*np.sin(eulerAng[1])*np.sin(eulerAng[2]) - np.sin(eulerAng[0])*np.cos(eulerAng[2])\n",
    "    m13 = np.cos(eulerAng[0])*np.sin(eulerAng[1])*np.cos(eulerAng[2]) + np.sin(eulerAng[0])*np.sin(eulerAng[2])\n",
    "    m14 = translation[0]\n",
    "\n",
    "    m21 = np.sin(eulerAng[0])*np.cos(eulerAng[1])\n",
    "    m22 = np.sin(eulerAng[0])*np.sin(eulerAng[1])*np.sin(eulerAng[2]) + np.cos(eulerAng[0])*np.cos(eulerAng[2])\n",
    "    m23 = np.sin(eulerAng[0])*np.sin(eulerAng[1])*np.cos(eulerAng[2]) - np.cos(eulerAng[0])*np.sin(eulerAng[2])\n",
    "    m24 = translation[1]\n",
    "\n",
    "    m31 = -np.sin(eulerAng[1])\n",
    "    m32 = np.cos(eulerAng[1])*np.sin(eulerAng[2])\n",
    "    m33 = np.cos(eulerAng[1])*np.cos(eulerAng[2])\n",
    "    m34 = translation[2]\n",
    "\n",
    "\n",
    "    return np.array([[m11, m12, m13, m14], [m21, m22, m23, m24], [m31, m32, m33, m34], [0, 0, 0, 1]])\n",
    "\n"
   ]
  },
  {
   "cell_type": "code",
   "execution_count": 162,
   "metadata": {},
   "outputs": [],
   "source": [
    "#rot pi/4\n",
    "np.set_printoptions(suppress=True)\n",
    "T_1 = produceTransformMat(eulerAng=[np.pi/2, 0, 0])\n",
    "\n",
    "T_2 = produceTransformMat(eulerAng=[0, np.pi/2, 0])\n",
    "\n",
    "T_3 = produceTransformMat(eulerAng=[0, 0, np.pi/2])\n",
    "\n"
   ]
  },
  {
   "cell_type": "code",
   "execution_count": 163,
   "metadata": {},
   "outputs": [
    {
     "name": "stdout",
     "output_type": "stream",
     "text": [
      "T_1\n",
      "[[ 0. -1.  0.  0.]\n",
      " [ 1.  0.  0.  0.]\n",
      " [-0.  0.  1.  0.]\n",
      " [ 0.  0.  0.  1.]]\n",
      "T_2\n",
      "[[ 0.  0.  1.  0.]\n",
      " [ 0.  1.  0.  0.]\n",
      " [-1.  0.  0.  0.]\n",
      " [ 0.  0.  0.  1.]]\n",
      "T_3\n",
      "[[ 1.  0.  0.  0.]\n",
      " [ 0.  0. -1.  0.]\n",
      " [-0.  1.  0.  0.]\n",
      " [ 0.  0.  0.  1.]]\n"
     ]
    }
   ],
   "source": [
    "print('T_1')\n",
    "print(T_1)\n",
    "\n",
    "print('T_2')\n",
    "print(T_2)\n",
    "\n",
    "print('T_3')\n",
    "print(T_3)"
   ]
  },
  {
   "cell_type": "code",
   "execution_count": 174,
   "metadata": {},
   "outputs": [
    {
     "name": "stdout",
     "output_type": "stream",
     "text": [
      "[[1.]\n",
      " [0.]\n",
      " [0.]\n",
      " [1.]]\n"
     ]
    }
   ],
   "source": [
    "#W = np.array([[0, 0, 0, 0], [1, 1, 1, 1], [0, 0, 0, 0], [1, 1, 1, 1]])\n",
    "\n",
    "#Coord = np.tensordot(W,T_3,axes=((0),(1)))\n",
    "\n",
    "W = np.array([[0], [0], [1], [1]])\n",
    "Coord = np.tensordot(T_2,W,axes=((1),(0)))\n",
    "print(Coord)"
   ]
  },
  {
   "cell_type": "markdown",
   "metadata": {},
   "source": [
    "W.shape"
   ]
  },
  {
   "cell_type": "code",
   "execution_count": 87,
   "metadata": {},
   "outputs": [
    {
     "data": {
      "text/plain": [
       "(4L, 4L)"
      ]
     },
     "execution_count": 87,
     "metadata": {},
     "output_type": "execute_result"
    }
   ],
   "source": [
    "T_1.shape"
   ]
  },
  {
   "cell_type": "code",
   "execution_count": null,
   "metadata": {},
   "outputs": [],
   "source": []
  },
  {
   "cell_type": "code",
   "execution_count": null,
   "metadata": {},
   "outputs": [],
   "source": []
  }
 ],
 "metadata": {
  "kernelspec": {
   "display_name": "Python [conda env:exjobb]",
   "language": "python",
   "name": "conda-env-exjobb-py"
  },
  "language_info": {
   "codemirror_mode": {
    "name": "ipython",
    "version": 2
   },
   "file_extension": ".py",
   "mimetype": "text/x-python",
   "name": "python",
   "nbconvert_exporter": "python",
   "pygments_lexer": "ipython2",
   "version": "2.7.16"
  }
 },
 "nbformat": 4,
 "nbformat_minor": 2
}
